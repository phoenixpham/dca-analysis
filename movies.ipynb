{
 "cells": [
  {
   "cell_type": "code",
   "execution_count": null,
   "id": "dfa018e5-d32e-4023-95c5-d6d6d63fac87",
   "metadata": {},
   "outputs": [],
   "source": [
    "import os, urllib\n",
    "import numpy as np\n",
    "from moviepy.editor import VideoFileClip\n",
    "import cv2\n",
    "import matplotlib.pyplot as plt\n",
    "from IPython.display import Video\n",
    "\n",
    "from sklearn.decomposition import PCA\n",
    "from dca.dca import DynamicalComponentsAnalysis as DCA"
   ]
  },
  {
   "cell_type": "markdown",
   "id": "213af62e-263b-4529-ac23-25104989ecc8",
   "metadata": {},
   "source": [
    "# The Movie"
   ]
  },
  {
   "cell_type": "markdown",
   "id": "3292521e-4d2d-40bf-865d-2457eff10b40",
   "metadata": {},
   "source": [
    "I will be applying DCA on a scene from the adult animated science fiction action horror anthology film [*Predator: Killer of Killers*](https://en.wikipedia.org/wiki/Predator:_Killer_of_Killers), directed by Dan Trachtenberg. The entire film is 1.26 GB, so I extracted one of the scenes from the movie. You can read the plot of this scene [here](https://en.wikipedia.org/wiki/Predator:_Killer_of_Killers#The_Bullet). This data is extracted from Hulu."
   ]
  },
  {
   "cell_type": "markdown",
   "id": "c7104c80-f602-47d9-a26c-554969728445",
   "metadata": {},
   "source": [
    "# Load Movie"
   ]
  },
  {
   "cell_type": "code",
   "execution_count": null,
   "id": "a6c14cc6-cbdb-4b52-9019-6c13b027d2c4",
   "metadata": {},
   "outputs": [],
   "source": [
    "scene = VideoFileClip(\"../data/predator_killer_of_killers_the_bullet.mp4\")"
   ]
  },
  {
   "cell_type": "markdown",
   "id": "56b79701-0809-4420-88dd-7663de0f7d2e",
   "metadata": {},
   "source": [
    "## Extract Specific Clips\n",
    "\n",
    "Possible test clips\n",
    "- 0:25 to 0:31 (plane & car)\n",
    "- 5:40 to 5:46 (moving alien projectile)\n",
    "- 5:49 to 5:55 (flying airplanes #1)\n",
    "- 6:00 to 6:05 (flying airplanes #2)\n",
    "- 6:37 to 6:43 (radar)\n",
    "- 10:24 to 10:29 (exploding airplane)\n",
    "- 10:30 to 10:38 (flying airplanes #3)\n",
    "- **13:30 to 13:34 (altitude meter)**\n",
    "- 13:35 to 13:38 (alien ship)\n",
    "- **14:26 to 14:31 (flying airplanes #4)**\n",
    "- 16:27 to 16:30 (flying airplane in fire)\n",
    "- **16:52 to 16:54 (flying airplane in fire #2)**\n",
    "- **19:10 to 19:16 (flare gun)**"
   ]
  },
  {
   "cell_type": "code",
   "execution_count": null,
   "id": "f4b98003-194b-476f-aa50-d90f685adeaf",
   "metadata": {},
   "outputs": [],
   "source": [
    "clip1 = scene.subclip(810, 814) # from 13:30 to 13:34\n",
    "clip1.write_videofile('../data/meter.mp4', codec='libx264')\n",
    "\n",
    "clip2 = scene.subclip(866, 871) # from 14:26 to 14:31\n",
    "clip2.write_videofile('../data/airplane.mp4', codec='libx264')\n",
    "\n",
    "clip3 = scene.subclip(1012, 1014) # from 16:52 to 16:54\n",
    "clip3.write_videofile('../data/projectiles.mp4', codec='libx264')\n",
    "\n",
    "clip4 = scene.subclip(1150, 1156) # from 19:10 to 19:16\n",
    "clip4.write_videofile('../data/flare.mp4', codec='libx264')"
   ]
  },
  {
   "cell_type": "markdown",
   "id": "2a53da56-7cbc-4601-a340-0e13007ce03a",
   "metadata": {},
   "source": [
    "# Preprocess Clips into Frames"
   ]
  },
  {
   "cell_type": "code",
   "execution_count": null,
   "id": "de74ba5a-8992-4571-aa80-3def5250661b",
   "metadata": {},
   "outputs": [],
   "source": [
    "def preprocess_clip(clip):\n",
    "    frames = []\n",
    "    while True:\n",
    "        ret, frame = clip.read()\n",
    "        if not ret:\n",
    "            break\n",
    "    \n",
    "        # Resize and convery to grayscale\n",
    "        frame = cv2.resize(frame, (32, 32))\n",
    "        gray = cv2.cvtColor(frame, cv2.COLOR_BGR2GRAY)\n",
    "        frames.append(gray)\n",
    "    clip.release()\n",
    "\n",
    "    return np.array(frames)"
   ]
  },
  {
   "cell_type": "code",
   "execution_count": null,
   "id": "f1c25a3c-f3a7-457a-a1e4-70dd436323ab",
   "metadata": {},
   "outputs": [],
   "source": [
    "meter = cv2.VideoCapture('../data/meter.mp4')\n",
    "airplane = cv2.VideoCapture('../data/airplane.mp4')\n",
    "projectiles = cv2.VideoCapture('../data/projectiles.mp4')\n",
    "flare = cv2.VideoCapture('../data/flare.mp4')"
   ]
  },
  {
   "cell_type": "code",
   "execution_count": null,
   "id": "73820d43-96a7-4b6d-8930-127f6b1c850c",
   "metadata": {},
   "outputs": [],
   "source": [
    "meter_frames = preprocess_clip(meter)\n",
    "X_meter = meter_frames.reshape(meter_frames.shape[0], -1) # (T=96 frames, 1024)\n",
    "\n",
    "airplane_frames = preprocess_clip(airplane)\n",
    "X_airplane = airplane_frames.reshape(airplane_frames.shape[0], -1) # (T=120 frames, 1024)\n",
    "\n",
    "projectiles_frames = preprocess_clip(projectiles)\n",
    "X_projectiles = projectiles_frames.reshape(projectiles_frames.shape[0], -1) # (T=48 frames, 1024)\n",
    "\n",
    "flare_frames = preprocess_clip(flare)\n",
    "X_flare = flare_frames.reshape(flare_frames.shape[0], -1) # (T=144 frames, 1024)"
   ]
  },
  {
   "cell_type": "code",
   "execution_count": null,
   "id": "cac2b055-10ff-4c5e-995e-51f336c1aaa2",
   "metadata": {},
   "outputs": [],
   "source": [
    "X_meter_downsampled = X_meter[::4] # keep every fourth frame\n",
    "X_meter_downsampled.shape"
   ]
  },
  {
   "cell_type": "code",
   "execution_count": null,
   "id": "e71f30be-64dd-40e4-b040-081a21f07039",
   "metadata": {},
   "outputs": [],
   "source": [
    "X_airplane_downsampled = X_airplane[::5] # keep every fifth frame\n",
    "X_airplane_downsampled.shape"
   ]
  },
  {
   "cell_type": "code",
   "execution_count": null,
   "id": "e346ef28-84f7-4dd2-9c64-7d2209828657",
   "metadata": {},
   "outputs": [],
   "source": [
    "X_projectiles_downsampled = X_projectiles[::2] # keep every second frame\n",
    "X_projectiles_downsampled.shape"
   ]
  },
  {
   "cell_type": "code",
   "execution_count": null,
   "id": "66afc145-a693-41e4-9be2-ad7b217fbe65",
   "metadata": {},
   "outputs": [],
   "source": [
    "X_flare_downsampled = X_flare[::6] # keep every sixth frame\n",
    "X_flare_downsampled.shape"
   ]
  },
  {
   "cell_type": "markdown",
   "id": "07ad8cde-710e-4976-9428-c7bf5aa07823",
   "metadata": {},
   "source": [
    "# DCA <small>(vs. PCA on Clip 3/4)</small>"
   ]
  },
  {
   "cell_type": "code",
   "execution_count": null,
   "id": "299833d1-5fc5-4161-9802-69b3bbfb35dd",
   "metadata": {
    "scrolled": true
   },
   "outputs": [],
   "source": [
    "dca = DCA(d=2, # extract 2 dynamical components\n",
    "          T=3, # 2*T=6 frame window (safe given 72 frames total)\n",
    "          verbose=True,\n",
    "          block_toeplitz=True,\n",
    "          rng_or_seed=10\n",
    "         )"
   ]
  },
  {
   "cell_type": "code",
   "execution_count": null,
   "id": "8c3817c9-f493-4cec-b7a9-852e6613d8c3",
   "metadata": {},
   "outputs": [],
   "source": [
    "pca = PCA(n_components=2)"
   ]
  },
  {
   "cell_type": "markdown",
   "id": "05aebdda-777f-46ba-acbd-14e7911569ec",
   "metadata": {},
   "source": [
    "## Clip 1 (meter.mp4)"
   ]
  },
  {
   "cell_type": "code",
   "execution_count": null,
   "id": "1b1f158e-517e-4429-97be-8740b2332fe2",
   "metadata": {
    "scrolled": true
   },
   "outputs": [],
   "source": [
    "X_meter_dca = dca.fit_transform(X_meter_downsampled)"
   ]
  },
  {
   "cell_type": "code",
   "execution_count": null,
   "id": "991dc0b5-8e0b-4646-8a96-563a7a576015",
   "metadata": {},
   "outputs": [],
   "source": [
    "plt.plot(X_meter_dca[:, 0], label=\"DC 1\")\n",
    "plt.plot(X_meter_dca[:, 1], label=\"DC 2\")\n",
    "plt.title(\"Dynamical Components over Time (Clip 1)\")\n",
    "plt.xlabel(\"Time (frame index)\")\n",
    "plt.ylabel(\"Component Value\")\n",
    "plt.legend()\n",
    "plt.grid()\n",
    "plt.savefig(\"../plots/meter_plot.png\", dpi=300, bbox_inches='tight')\n",
    "plt.show();"
   ]
  },
  {
   "cell_type": "code",
   "execution_count": null,
   "id": "0b0f1fbd-97de-4737-befa-ffef57786748",
   "metadata": {},
   "outputs": [],
   "source": [
    "V = dca.coef_\n",
    "V.shape"
   ]
  },
  {
   "cell_type": "code",
   "execution_count": null,
   "id": "069d6997-cd8d-4e17-8992-2a9744b1c91a",
   "metadata": {},
   "outputs": [],
   "source": [
    "dc1_map = V[:, 0].reshape((32, 32))\n",
    "dc2_map = V[:, 1].reshape((32, 32))"
   ]
  },
  {
   "cell_type": "markdown",
   "id": "42cea827-074a-4007-98ad-abf228fbe094",
   "metadata": {},
   "source": [
    "### Reference Clip"
   ]
  },
  {
   "cell_type": "code",
   "execution_count": null,
   "id": "b011822e-871d-48a0-926c-5ff0eb04f441",
   "metadata": {},
   "outputs": [],
   "source": [
    "Video(\"../data/meter.mp4\", embed=True, width=400)"
   ]
  },
  {
   "cell_type": "code",
   "execution_count": null,
   "id": "f1646939-9c62-4983-b510-72fad3c27e30",
   "metadata": {},
   "outputs": [],
   "source": [
    "fig, axes = plt.subplots(1, 2, figsize=(12, 5))\n",
    "\n",
    "im1 = axes[0].imshow(dc1_map, cmap='hot')\n",
    "axes[0].set_title('Dynamical Component 1 – Pixel Contributions')\n",
    "fig.colorbar(im1, ax=axes[0])\n",
    "\n",
    "im2 = axes[1].imshow(dc2_map, cmap='hot')\n",
    "axes[1].set_title('Dynamical Component 2 – Pixel Contributions')\n",
    "fig.colorbar(im2, ax=axes[1])\n",
    "\n",
    "plt.tight_layout()\n",
    "plt.savefig(\"../plots/meter_dca.png\", dpi=300, bbox_inches='tight')\n",
    "plt.show();"
   ]
  },
  {
   "cell_type": "markdown",
   "id": "6491ddca-2289-4f8a-9750-b093b12c65a7",
   "metadata": {},
   "source": [
    "## Clip 2 (airplane.mp4)"
   ]
  },
  {
   "cell_type": "code",
   "execution_count": null,
   "id": "e45129d6-e4e9-4dbf-944a-5c238cee888e",
   "metadata": {
    "scrolled": true
   },
   "outputs": [],
   "source": [
    "X_airplane_dca = dca.fit_transform(X_airplane_downsampled)"
   ]
  },
  {
   "cell_type": "code",
   "execution_count": null,
   "id": "48c24954-0574-4d6a-81ac-a26ba10df57c",
   "metadata": {},
   "outputs": [],
   "source": [
    "plt.plot(X_airplane_dca[:, 0], label=\"DC 1\")\n",
    "plt.plot(X_airplane_dca[:, 1], label=\"DC 2\")\n",
    "plt.title(\"Dynamical Components over Time (Clip 2)\")\n",
    "plt.xlabel(\"Time (frame index)\")\n",
    "plt.ylabel(\"Component Value\")\n",
    "plt.legend()\n",
    "plt.grid()\n",
    "plt.savefig(\"../plots/airplane_plot.png\", dpi=300, bbox_inches='tight')\n",
    "plt.show();"
   ]
  },
  {
   "cell_type": "code",
   "execution_count": null,
   "id": "4341e5dd-48b6-4329-887d-bb5b662e11b4",
   "metadata": {},
   "outputs": [],
   "source": [
    "V = dca.coef_\n",
    "V.shape"
   ]
  },
  {
   "cell_type": "code",
   "execution_count": null,
   "id": "156e7d3a-6167-4b8e-91ff-3532d23e84d6",
   "metadata": {},
   "outputs": [],
   "source": [
    "dc1_map = V[:, 0].reshape((32, 32))\n",
    "dc2_map = V[:, 1].reshape((32, 32))"
   ]
  },
  {
   "cell_type": "markdown",
   "id": "1199b07f-5340-4ae1-a34c-a285062b995c",
   "metadata": {},
   "source": [
    "### Reference Clip"
   ]
  },
  {
   "cell_type": "code",
   "execution_count": null,
   "id": "63e36770-caf6-4e8c-8710-df71d042bcb8",
   "metadata": {},
   "outputs": [],
   "source": [
    "Video(\"../data/airplane.mp4\", embed=True, width=400)"
   ]
  },
  {
   "cell_type": "code",
   "execution_count": null,
   "id": "883692bf-b7fa-48b2-b643-2beff67b41e6",
   "metadata": {},
   "outputs": [],
   "source": [
    "fig, axes = plt.subplots(1, 2, figsize=(12, 5))\n",
    "\n",
    "im1 = axes[0].imshow(dc1_map, cmap='hot')\n",
    "axes[0].set_title('Dynamical Component 1 – Pixel Contributions')\n",
    "fig.colorbar(im1, ax=axes[0])\n",
    "\n",
    "im2 = axes[1].imshow(dc2_map, cmap='hot')\n",
    "axes[1].set_title('Dynamical Component 2 – Pixel Contributions')\n",
    "fig.colorbar(im2, ax=axes[1])\n",
    "\n",
    "plt.tight_layout()\n",
    "plt.savefig(\"../plots/airplane_dca.png\", dpi=300, bbox_inches='tight')\n",
    "plt.show();"
   ]
  },
  {
   "cell_type": "markdown",
   "id": "4a241a11-c7e4-4250-b0cd-9851b2fc15b1",
   "metadata": {},
   "source": [
    "## Clip 3 (projectiles.mp4)"
   ]
  },
  {
   "cell_type": "code",
   "execution_count": null,
   "id": "279e5d65-f027-407b-b79e-b3227e974e5c",
   "metadata": {
    "scrolled": true
   },
   "outputs": [],
   "source": [
    "X_projectiles_dca = dca.fit_transform(X_projectiles_downsampled)"
   ]
  },
  {
   "cell_type": "code",
   "execution_count": null,
   "id": "91226868-1494-4c41-884b-c21590ef93d8",
   "metadata": {},
   "outputs": [],
   "source": [
    "plt.plot(X_projectiles_dca[:, 0], label=\"DC 1\")\n",
    "plt.plot(X_projectiles_dca[:, 1], label=\"DC 2\")\n",
    "plt.title(\"Dynamical Components over Time (Clip 3)\")\n",
    "plt.xlabel(\"Time (frame index)\")\n",
    "plt.ylabel(\"Component Value\")\n",
    "plt.legend()\n",
    "plt.grid()\n",
    "plt.savefig(\"../plots/projectiles_plot.png\", dpi=300, bbox_inches='tight')\n",
    "plt.show();"
   ]
  },
  {
   "cell_type": "markdown",
   "id": "c2cabbea-8d43-422f-b6db-3b3ab20ed3ef",
   "metadata": {},
   "source": [
    "### Reference Clip"
   ]
  },
  {
   "cell_type": "code",
   "execution_count": null,
   "id": "dff29009-a5a9-4893-9200-33e580a95a76",
   "metadata": {},
   "outputs": [],
   "source": [
    "Video(\"../data/projectiles.mp4\", embed=True, width=400)"
   ]
  },
  {
   "cell_type": "code",
   "execution_count": null,
   "id": "ea19d4af-ee8c-4d95-8310-bda772c3b8a6",
   "metadata": {},
   "outputs": [],
   "source": [
    "V = dca.coef_\n",
    "V.shape"
   ]
  },
  {
   "cell_type": "code",
   "execution_count": null,
   "id": "0dedec8a-f6b5-4e33-aa7e-916548f5e09d",
   "metadata": {},
   "outputs": [],
   "source": [
    "dc1_map = V[:, 0].reshape((32, 32))\n",
    "dc2_map = V[:, 1].reshape((32, 32))"
   ]
  },
  {
   "cell_type": "code",
   "execution_count": null,
   "id": "69f2baf7-051f-4428-b124-75b2ede3280e",
   "metadata": {},
   "outputs": [],
   "source": [
    "fig, axes = plt.subplots(1, 2, figsize=(12, 5))\n",
    "\n",
    "im1 = axes[0].imshow(dc1_map, cmap='hot')\n",
    "axes[0].set_title('Dynamical Component 1 – Pixel Contributions')\n",
    "fig.colorbar(im1, ax=axes[0])\n",
    "\n",
    "im2 = axes[1].imshow(dc2_map, cmap='hot')\n",
    "axes[1].set_title('Dynamical Component 2 – Pixel Contributions')\n",
    "fig.colorbar(im2, ax=axes[1])\n",
    "\n",
    "plt.tight_layout()\n",
    "plt.savefig(\"../plots/projectiles_dca.png\", dpi=300, bbox_inches='tight')\n",
    "plt.show();"
   ]
  },
  {
   "cell_type": "markdown",
   "id": "006a0eae-68bc-438b-8145-09c366e029aa",
   "metadata": {},
   "source": [
    "The first Dynamical Component (DC1) appears to highlight regions that are most predictive of upcoming visual changes:\n",
    "\n",
    "- The high **positive component values** in the bottom right corner correspond to the motion of the alien spaceship, suggesting this region carries strong predictive information about future frames.\n",
    "- The **negative component values** in the upper sky align with exploding projectiles and smoke, indicating these features may reflect past activity that influences upcoming dynamics.\n",
    "- The **(near) zero component values** across the cloudy background imply that the sky contributes little to predicting what happens next. Consistent with its relatively static nature."
   ]
  },
  {
   "cell_type": "code",
   "execution_count": null,
   "id": "21d1630f-0676-4078-a07d-b94ddb8412ec",
   "metadata": {},
   "outputs": [],
   "source": [
    "X_projectiles_pca = pca.fit_transform(X_projectiles_downsampled)"
   ]
  },
  {
   "cell_type": "code",
   "execution_count": null,
   "id": "9ec8263f-afb6-43c6-bfef-1c4b7d0972ff",
   "metadata": {},
   "outputs": [],
   "source": [
    "V = pca.components_\n",
    "V.shape"
   ]
  },
  {
   "cell_type": "code",
   "execution_count": null,
   "id": "2a687d1e-694a-4180-a009-38e0997af999",
   "metadata": {},
   "outputs": [],
   "source": [
    "pc1_map = V[0].reshape(32, 32)\n",
    "pc2_map = V[1].reshape(32, 32)"
   ]
  },
  {
   "cell_type": "code",
   "execution_count": null,
   "id": "b8019417-4a77-45d4-bccc-c55ac2f3b258",
   "metadata": {},
   "outputs": [],
   "source": [
    "fig, axes = plt.subplots(1, 2, figsize=(12, 5))\n",
    "\n",
    "im1 = axes[0].imshow(pc1_map, cmap='hot')\n",
    "axes[0].set_title('Principal Component 1')\n",
    "fig.colorbar(im1, ax=axes[0])\n",
    "\n",
    "im2 = axes[1].imshow(pc2_map, cmap='hot')\n",
    "axes[1].set_title('Principal Component 2')\n",
    "fig.colorbar(im2, ax=axes[1])\n",
    "\n",
    "plt.tight_layout()\n",
    "plt.savefig(\"../plots/projectiles_pca.png\", dpi=300, bbox_inches='tight')\n",
    "plt.show();"
   ]
  },
  {
   "cell_type": "markdown",
   "id": "8a798fda-cef3-459d-9140-2963b797bc06",
   "metadata": {},
   "source": [
    "Principal component 1 (PC1) extracted from PCA seems to not capture any meaningful patterns, as the positive regions don't highlight an actual object in the clip. Principal component 2 (PC2) seems to capture the bright bullet projectiles in the sky. Either way, neither components do not capture the alien spaceship that moves across the clip, which DC1 was able to capture."
   ]
  },
  {
   "cell_type": "markdown",
   "id": "91593efb-8e24-4260-8755-d4b9a805eb62",
   "metadata": {},
   "source": [
    "## Clip 4 (flare.mp4)"
   ]
  },
  {
   "cell_type": "code",
   "execution_count": null,
   "id": "96ce626b-337e-4cb4-8b00-998b4f911acd",
   "metadata": {
    "scrolled": true
   },
   "outputs": [],
   "source": [
    "X_flare_dca = dca.fit_transform(X_flare_downsampled)"
   ]
  },
  {
   "cell_type": "code",
   "execution_count": null,
   "id": "2376135b-ed6b-4e5c-af4d-97c23b46608a",
   "metadata": {},
   "outputs": [],
   "source": [
    "plt.plot(X_flare_dca[:, 0], label=\"DC 1\")\n",
    "plt.plot(X_flare_dca[:, 1], label=\"DC 2\")\n",
    "plt.title(\"Dynamical Components over Time (Clip 4)\")\n",
    "plt.xlabel(\"Time (frame index)\")\n",
    "plt.ylabel(\"Component Value\")\n",
    "plt.legend()\n",
    "plt.grid()\n",
    "plt.savefig(\"../plots/flare_plot.png\", dpi=300, bbox_inches='tight')\n",
    "plt.show();"
   ]
  },
  {
   "cell_type": "markdown",
   "id": "b4d51e3e-4bcb-4ab7-a294-c04f46726301",
   "metadata": {},
   "source": [
    "### Reference Clip"
   ]
  },
  {
   "cell_type": "code",
   "execution_count": null,
   "id": "21b206b1-6b11-4118-b6e3-29b891eb85b8",
   "metadata": {},
   "outputs": [],
   "source": [
    "Video(\"../data/flare.mp4\", embed=True, width=400)"
   ]
  },
  {
   "cell_type": "code",
   "execution_count": null,
   "id": "4dad6582-f403-435d-b0ee-c12c75defafb",
   "metadata": {},
   "outputs": [],
   "source": [
    "V = dca.coef_\n",
    "V.shape"
   ]
  },
  {
   "cell_type": "code",
   "execution_count": null,
   "id": "fdaefd57-f64e-4835-8878-be2a4974fbbb",
   "metadata": {},
   "outputs": [],
   "source": [
    "dc1_map = V[:, 0].reshape((32, 32))\n",
    "dc2_map = V[:, 1].reshape((32, 32))"
   ]
  },
  {
   "cell_type": "code",
   "execution_count": null,
   "id": "8fc2e466-cfe7-4252-ae12-d8c738feed0d",
   "metadata": {},
   "outputs": [],
   "source": [
    "fig, axes = plt.subplots(1, 2, figsize=(12, 5))\n",
    "\n",
    "im1 = axes[0].imshow(dc1_map, cmap='hot')\n",
    "axes[0].set_title('Dynamical Component 1 – Pixel Contributions')\n",
    "fig.colorbar(im1, ax=axes[0])\n",
    "\n",
    "im2 = axes[1].imshow(dc2_map, cmap='hot')\n",
    "axes[1].set_title('Dynamical Component 2 – Pixel Contributions')\n",
    "fig.colorbar(im2, ax=axes[1])\n",
    "\n",
    "plt.tight_layout()\n",
    "plt.savefig(\"../plots/flare_dca.png\", dpi=300, bbox_inches='tight')\n",
    "plt.show();"
   ]
  },
  {
   "cell_type": "markdown",
   "id": "1899a3ed-d423-4e83-8965-8ee4ad9a5aa3",
   "metadata": {},
   "source": [
    "The first Dynamical Component (DC1) extracted by DCA appears to isolate the core dynamics of the **flare's motion across the sky**.\n",
    "\n",
    "- The **bright (positive) regions** in the component map align with the current location of the flare's bright core, suggesting this area is highly informative for predicting what comes next.\n",
    "- The **dark (negative) regions** trace the flare’s fading trail, highlighting areas where the light has just passed and is dimming, encoding the immediate past.\n",
    "- The **(near) zero values** across the static sky indicate these background regions contribute little to the temporal evolution, and are thus effectively ignored by DC1."
   ]
  },
  {
   "cell_type": "code",
   "execution_count": null,
   "id": "0e747c0f-3ef2-4b6e-a208-c5ce1706a05f",
   "metadata": {},
   "outputs": [],
   "source": [
    "X_flare_pca = pca.fit_transform(X_flare_downsampled)"
   ]
  },
  {
   "cell_type": "code",
   "execution_count": null,
   "id": "47f1798b-0cb6-4a03-9955-96ae28341201",
   "metadata": {},
   "outputs": [],
   "source": [
    "V = pca.components_\n",
    "V.shape"
   ]
  },
  {
   "cell_type": "code",
   "execution_count": null,
   "id": "edd459e0-e358-4033-95cb-345b7913a3c4",
   "metadata": {},
   "outputs": [],
   "source": [
    "pc1_map = V[0].reshape(32, 32)\n",
    "pc2_map = V[1].reshape(32, 32)"
   ]
  },
  {
   "cell_type": "code",
   "execution_count": null,
   "id": "6aa80b1d-c003-43c9-9682-0c4a60c95bdf",
   "metadata": {},
   "outputs": [],
   "source": [
    "fig, axes = plt.subplots(1, 2, figsize=(12, 5))\n",
    "\n",
    "im1 = axes[0].imshow(pc1_map, cmap='hot')\n",
    "axes[0].set_title('Principal Component 1')\n",
    "fig.colorbar(im1, ax=axes[0])\n",
    "\n",
    "im2 = axes[1].imshow(pc2_map, cmap='hot')\n",
    "axes[1].set_title('Principal Component 2')\n",
    "fig.colorbar(im2, ax=axes[1])\n",
    "\n",
    "plt.tight_layout()\n",
    "plt.savefig(\"../plots/flare_pca.png\", dpi=300, bbox_inches='tight')\n",
    "plt.show();"
   ]
  },
  {
   "cell_type": "markdown",
   "id": "c3461e4d-0acb-4fe7-aff0-c42d4c4c4c06",
   "metadata": {},
   "source": [
    "Principal component 1 (PC1) extracted from PCA seems to capture the background sky (all positive) instead of the center of the flare (negative), whereas DC1 extracted from DCA captured the movement of the flare. This shows DCA was able to capture the meaningful dynamics of the movement of the flare that gives the most information of what the next frame will look like."
   ]
  }
 ],
 "metadata": {
  "kernelspec": {
   "display_name": "Python 3 (ipykernel)",
   "language": "python",
   "name": "python3"
  },
  "language_info": {
   "codemirror_mode": {
    "name": "ipython",
    "version": 3
   },
   "file_extension": ".py",
   "mimetype": "text/x-python",
   "name": "python",
   "nbconvert_exporter": "python",
   "pygments_lexer": "ipython3",
   "version": "3.9.6"
  }
 },
 "nbformat": 4,
 "nbformat_minor": 5
}
